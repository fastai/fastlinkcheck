{
 "cells": [
  {
   "cell_type": "markdown",
   "metadata": {},
   "source": [
    "# fastlinkcheck\n",
    "\n",
    "> Check for broken external and internal links."
   ]
  },
  {
   "cell_type": "markdown",
   "metadata": {},
   "source": [
    "`fastlinkcheck` checks for broken links in HTML documents.  This occurs in parallel so performance is fast.  Both external links and internal links are checked.  Internal links are checked by verifying local files.\n",
    "\n",
    "To get started, read [the documentation](https://fastlinkcheck.fast.ai/)."
   ]
  },
  {
   "cell_type": "markdown",
   "metadata": {},
   "source": [
    "## Install"
   ]
  },
  {
   "cell_type": "markdown",
   "metadata": {},
   "source": [
    "`pip install fastlinkcheck`"
   ]
  },
  {
   "cell_type": "markdown",
   "metadata": {},
   "source": [
    "## Usage"
   ]
  },
  {
   "cell_type": "markdown",
   "metadata": {},
   "source": [
    "After installing `fastlinkcheck`, the cli command `link_check` is available from the command line.  We can see various options with the `--help` flag."
   ]
  },
  {
   "cell_type": "code",
   "execution_count": null,
   "metadata": {},
   "outputs": [
    {
     "name": "stdout",
     "output_type": "stream",
     "text": [
      "usage: link_check [-h] [--host HOST] [--config_file CONFIG_FILE] [--pdb]\n",
      "                  [--xtra XTRA]\n",
      "                  path\n",
      "\n",
      "Check for broken links recursively in `path`.\n",
      "\n",
      "positional arguments:\n",
      "  path                  Root directory searched recursively for HTML files\n",
      "\n",
      "optional arguments:\n",
      "  -h, --help            show this help message and exit\n",
      "  --host HOST           Host and path (without protocol) of web server\n",
      "  --config_file CONFIG_FILE\n",
      "                        Location of file with urls to ignore\n",
      "  --pdb                 Run in pdb debugger (default: False)\n",
      "  --xtra XTRA           Parse for additional args (default: '')\n"
     ]
    }
   ],
   "source": [
    "link_check --help"
   ]
  },
  {
   "cell_type": "markdown",
   "metadata": {},
   "source": [
    "We can search the directory `_example/broken_links` in this repo recursively for broken links like this:"
   ]
  },
  {
   "cell_type": "code",
   "execution_count": null,
   "metadata": {},
   "outputs": [
    {
     "name": "stdout",
     "output_type": "stream",
     "text": [
      "                                                 \n",
      "ERROR: The Following Broken Links or Paths were found:\n",
      "\n",
      "- 'http://fastlinkcheck.com/test.html' was found in the following pages:\n",
      "  - `/Users/hamelsmu/github/fastlinkcheck/_example/broken_links/test.html`\n",
      "\n",
      "- 'http://somecdn.com/doesntexist.html' was found in the following pages:\n",
      "  - `/Users/hamelsmu/github/fastlinkcheck/_example/broken_links/test.html`\n",
      "\n",
      "- Path('/Users/hamelsmu/github/fastlinkcheck/_example/broken_links/test.js') was found in the following pages:\n",
      "  - `/Users/hamelsmu/github/fastlinkcheck/_example/broken_links/test.html`"
     ]
    },
    {
     "ename": "",
     "evalue": "1",
     "output_type": "error",
     "traceback": []
    }
   ],
   "source": [
    "link_check _example/broken_links "
   ]
  },
  {
   "cell_type": "markdown",
   "metadata": {},
   "source": [
    "Specifying the `--host` parameter allows you detect links that are internal by identifying links with that host name. External links are verified by making a request to the appropriate website.  On the other hand, internal links are verified by inspecting the presence and content of local files. \n",
    "\n",
    "We must be careful when using the `--host` argument to only pass the host (and path, if necessary) **without** the protocol.  For example, this is how we specify the hostname if your site's url is `http://fastlinkcheck.com/test.html`:"
   ]
  },
  {
   "cell_type": "code",
   "execution_count": null,
   "metadata": {},
   "outputs": [
    {
     "name": "stdout",
     "output_type": "stream",
     "text": [
      "                                                 \n",
      "ERROR: The Following Broken Links or Paths were found:\n",
      "\n",
      "- 'http://somecdn.com/doesntexist.html' was found in the following pages:\n",
      "  - `/Users/hamelsmu/github/fastlinkcheck/_example/broken_links/test.html`\n",
      "\n",
      "- Path('/Users/hamelsmu/github/fastlinkcheck/_example/broken_links/test.js') was found in the following pages:\n",
      "  - `/Users/hamelsmu/github/fastlinkcheck/_example/broken_links/test.html`"
     ]
    },
    {
     "ename": "",
     "evalue": "1",
     "output_type": "error",
     "traceback": []
    }
   ],
   "source": [
    "link_check _example/broken_links --host fastlinkcheck.com"
   ]
  },
  {
   "cell_type": "markdown",
   "metadata": {},
   "source": [
    "We now have one less broken link as there is indeed a file named `test.html` in the root of the path we are searching.  However, if we add a path to the end of `--host` , such as `fastlinkcheck.com/mysite` the link would again be listed as broken because `_example/broken_links/mysite/test.html` does not exist:"
   ]
  },
  {
   "cell_type": "code",
   "execution_count": null,
   "metadata": {},
   "outputs": [
    {
     "name": "stdout",
     "output_type": "stream",
     "text": [
      "                                                 \n",
      "ERROR: The Following Broken Links or Paths were found:\n",
      "\n",
      "- 'http://fastlinkcheck.com/test.html' was found in the following pages:\n",
      "  - `/Users/hamelsmu/github/fastlinkcheck/_example/broken_links/test.html`\n",
      "\n",
      "- 'http://somecdn.com/doesntexist.html' was found in the following pages:\n",
      "  - `/Users/hamelsmu/github/fastlinkcheck/_example/broken_links/test.html`\n",
      "\n",
      "- Path('/Users/hamelsmu/github/fastlinkcheck/_example/broken_links/test.js') was found in the following pages:\n",
      "  - `/Users/hamelsmu/github/fastlinkcheck/_example/broken_links/test.html`"
     ]
    },
    {
     "ename": "",
     "evalue": "1",
     "output_type": "error",
     "traceback": []
    }
   ],
   "source": [
    "link_check _example/broken_links --host fastlinkcheck.com/mysite"
   ]
  },
  {
   "cell_type": "markdown",
   "metadata": {},
   "source": [
    "You can ignore links by creating a text file that contains a list of urls and paths to ignore.  For example, the file `_example/broken_links/linkcheck.rc` contains:"
   ]
  },
  {
   "cell_type": "code",
   "execution_count": null,
   "metadata": {},
   "outputs": [
    {
     "name": "stdout",
     "output_type": "stream",
     "text": [
      "test.js\n",
      "https://www.google.com\n"
     ]
    }
   ],
   "source": [
    "cat _example/broken_links/linkcheck.rc"
   ]
  },
  {
   "cell_type": "markdown",
   "metadata": {},
   "source": [
    "We can use this file to ignore urls and paths with the `--config_file` argument.  This will filter out references to the broken link `/test.js` from our earlier results:"
   ]
  },
  {
   "cell_type": "code",
   "execution_count": null,
   "metadata": {},
   "outputs": [
    {
     "name": "stdout",
     "output_type": "stream",
     "text": [
      "                                                 \n",
      "ERROR: The Following Broken Links or Paths were found:\n",
      "\n",
      "- 'http://somecdn.com/doesntexist.html' was found in the following pages:\n",
      "  - `/Users/hamelsmu/github/fastlinkcheck/_example/broken_links/test.html`"
     ]
    },
    {
     "ename": "",
     "evalue": "1",
     "output_type": "error",
     "traceback": []
    }
   ],
   "source": [
    "link_check _example/broken_links --host fastlinkcheck.com --config_file _example/broken_links/linkcheck.rc"
   ]
  },
  {
   "cell_type": "markdown",
   "metadata": {},
   "source": [
    "Finally, if there are no broken links, `link_check` will not return anything.  The directory `_example/no_broken_links/` does not contain any HTML files with broken links:"
   ]
  },
  {
   "cell_type": "code",
   "execution_count": null,
   "metadata": {},
   "outputs": [
    {
     "name": "stdout",
     "output_type": "stream",
     "text": [
      "█\r",
      "\r",
      " |--------------------| 0.00% [0/2 00:00<00:00]\r",
      "\r",
      " |██████████----------| 50.00% [1/2 00:00<00:00]\r",
      "\r",
      " |████████████████████| 100.00% [2/2 00:00<00:00]\r",
      "\r",
      "                                                 \r",
      "No broken links found!\n"
     ]
    }
   ],
   "source": [
    "link_check _example/no_broken_links"
   ]
  },
  {
   "cell_type": "markdown",
   "metadata": {},
   "source": [
    "## Python"
   ]
  },
  {
   "cell_type": "markdown",
   "metadata": {},
   "source": [
    "You can also use these utilities from python instead of the terminal.  Please see [these docs](https://fastlinkcheck.fast.ai/linkcheck.html/) for more information."
   ]
  },
  {
   "cell_type": "markdown",
   "metadata": {},
   "source": [
    "## Using `link_check` in GitHub Actions\n",
    "\n",
    "\n",
    "Here is an example of how you can use this utility in GitHub Actions:\n",
    "\n",
    "\n",
    "```yaml\n",
    "name: Check Links\n",
    "on: [workflow_dispatch, push]\n",
    "\n",
    "jobs:\n",
    "  check-links:\n",
    "    runs-on: ubuntu-latest\n",
    "    steps:\n",
    "    - uses: actions/checkout@v2\n",
    "    - uses: actions/setup-python@v2\n",
    "    - name: check for broken links\n",
    "      run: |\n",
    "        pip install fastlinkcheck\n",
    "        link_check _example \n",
    "```\n",
    "\n",
    "We can a few more lines of code to open an issue instead when a broken link is found, using the [gh cli](https://github.com/cli/cli):\n",
    "\n",
    "```yaml\n",
    "...\n",
    "    - name: check for broken links\n",
    "      env:\n",
    "        GITHUB_TOKEN: ${{ secrets.GITHUB_TOKEN }}\n",
    "      run: |\n",
    "        pip install fastlinkcheck\n",
    "        link_check _example 2> err || true\n",
    "        [[ -s err ]] &&  gh issue create -t \"Broken links found\" -b \"$(< err)\" -R \"yourusername/yourrepo\"\n",
    "```\n",
    "\n",
    "We can extend this even further to only open an issue when another issue with a specific label isn't already open:\n",
    "\n",
    "```yaml\n",
    "...\n",
    "    - name: check for broken links\n",
    "      env:\n",
    "        GITHUB_TOKEN: ${{ secrets.GITHUB_TOKEN }}\n",
    "      run: |\n",
    "       pip install fastlinkcheck\n",
    "       link_check \"docs/_site\" --host \"docs.fast.ai\" 2> err || true\n",
    "        if [[ -z $(gh issue list -l \"broken-link\")) && (-s err) ]]; then\n",
    "          gh issue create -t \"Broken links found\" -b \"$(< err)\" -l \"broken-link\" -R \"yourusername/yourrepo\"\n",
    "        fi\n",
    "```\n",
    "\n",
    "\n",
    "See the [GitHub Actions docs](https://docs.github.com/en/free-pro-team@latest/actions) for more information."
   ]
  },
  {
   "cell_type": "code",
   "execution_count": null,
   "metadata": {},
   "outputs": [],
   "source": []
  }
 ],
 "metadata": {
  "kernelspec": {
   "display_name": "Bash",
   "language": "bash",
   "name": "bash"
  }
 },
 "nbformat": 4,
 "nbformat_minor": 2
}
